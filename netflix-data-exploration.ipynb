{
 "cells": [
  {
   "cell_type": "markdown",
   "id": "f904cb26-4109-49b0-93bb-ace81083707c",
   "metadata": {},
   "source": [
    "#### GOAL\n",
    "\n",
    "Generate insights by analysing the data to help our client decide what type of shows/movies to produce to develop the business in different countries.\n",
    "\n",
    "#### PROBLEM STATEMENT \n",
    "\n",
    "Analyze the data and generate insights that could help Netflix in deciding which type of shows/movies to produce and how they can grow the business in different countries"
   ]
  },
  {
   "cell_type": "code",
   "execution_count": 353,
   "id": "d335859b-c5a4-4cc0-9396-18ea5d1f6123",
   "metadata": {},
   "outputs": [],
   "source": [
    "import numpy as np\n",
    "import pandas as pd\n",
    "import matplotlib.pyplot as plt\n",
    "import seaborn as sns\n",
    "%matplotlib inline"
   ]
  },
  {
   "cell_type": "code",
   "execution_count": 2,
   "id": "bbb0d4c1-5a45-4798-8e61-d4f06f84248e",
   "metadata": {},
   "outputs": [],
   "source": [
    "data = pd.read_csv('dataset/netflix.csv')"
   ]
  },
  {
   "cell_type": "code",
   "execution_count": 128,
   "id": "d43b8210-96c6-4b3a-adef-34ce137a04da",
   "metadata": {},
   "outputs": [],
   "source": [
    "unprocessed_data = data.copy()"
   ]
  },
  {
   "cell_type": "markdown",
   "id": "45cbe49e-48d7-41fc-bac4-a095259e9c11",
   "metadata": {},
   "source": [
    "#### BASIC METRICS"
   ]
  },
  {
   "cell_type": "code",
   "execution_count": 4,
   "id": "ebf742e2-c277-4a04-a1c8-5d07c0f6b383",
   "metadata": {},
   "outputs": [
    {
     "data": {
      "text/plain": [
       "2"
      ]
     },
     "execution_count": 4,
     "metadata": {},
     "output_type": "execute_result"
    }
   ],
   "source": [
    "unprocessed_data.ndim # The dataset is 2 dimensional"
   ]
  },
  {
   "cell_type": "code",
   "execution_count": 5,
   "id": "12a4491d-4850-4790-93b1-77c5cbed077a",
   "metadata": {},
   "outputs": [],
   "source": [
    "# Basic Metrics"
   ]
  },
  {
   "cell_type": "code",
   "execution_count": 6,
   "id": "0449e982-a755-4397-b635-1c9aa59e084c",
   "metadata": {},
   "outputs": [
    {
     "data": {
      "text/html": [
       "<div>\n",
       "<style scoped>\n",
       "    .dataframe tbody tr th:only-of-type {\n",
       "        vertical-align: middle;\n",
       "    }\n",
       "\n",
       "    .dataframe tbody tr th {\n",
       "        vertical-align: top;\n",
       "    }\n",
       "\n",
       "    .dataframe thead th {\n",
       "        text-align: right;\n",
       "    }\n",
       "</style>\n",
       "<table border=\"1\" class=\"dataframe\">\n",
       "  <thead>\n",
       "    <tr style=\"text-align: right;\">\n",
       "      <th></th>\n",
       "      <th>show_id</th>\n",
       "      <th>type</th>\n",
       "      <th>title</th>\n",
       "      <th>director</th>\n",
       "      <th>cast</th>\n",
       "      <th>country</th>\n",
       "      <th>date_added</th>\n",
       "      <th>release_year</th>\n",
       "      <th>rating</th>\n",
       "      <th>duration</th>\n",
       "      <th>listed_in</th>\n",
       "      <th>description</th>\n",
       "    </tr>\n",
       "  </thead>\n",
       "  <tbody>\n",
       "    <tr>\n",
       "      <th>0</th>\n",
       "      <td>s1</td>\n",
       "      <td>Movie</td>\n",
       "      <td>Dick Johnson Is Dead</td>\n",
       "      <td>Kirsten Johnson</td>\n",
       "      <td>NaN</td>\n",
       "      <td>United States</td>\n",
       "      <td>September 25, 2021</td>\n",
       "      <td>2020</td>\n",
       "      <td>PG-13</td>\n",
       "      <td>90 min</td>\n",
       "      <td>Documentaries</td>\n",
       "      <td>As her father nears the end of his life, filmm...</td>\n",
       "    </tr>\n",
       "    <tr>\n",
       "      <th>1</th>\n",
       "      <td>s2</td>\n",
       "      <td>TV Show</td>\n",
       "      <td>Blood &amp; Water</td>\n",
       "      <td>NaN</td>\n",
       "      <td>Ama Qamata, Khosi Ngema, Gail Mabalane, Thaban...</td>\n",
       "      <td>South Africa</td>\n",
       "      <td>September 24, 2021</td>\n",
       "      <td>2021</td>\n",
       "      <td>TV-MA</td>\n",
       "      <td>2 Seasons</td>\n",
       "      <td>International TV Shows, TV Dramas, TV Mysteries</td>\n",
       "      <td>After crossing paths at a party, a Cape Town t...</td>\n",
       "    </tr>\n",
       "  </tbody>\n",
       "</table>\n",
       "</div>"
      ],
      "text/plain": [
       "  show_id     type                 title         director  \\\n",
       "0      s1    Movie  Dick Johnson Is Dead  Kirsten Johnson   \n",
       "1      s2  TV Show         Blood & Water              NaN   \n",
       "\n",
       "                                                cast        country  \\\n",
       "0                                                NaN  United States   \n",
       "1  Ama Qamata, Khosi Ngema, Gail Mabalane, Thaban...   South Africa   \n",
       "\n",
       "           date_added  release_year rating   duration  \\\n",
       "0  September 25, 2021          2020  PG-13     90 min   \n",
       "1  September 24, 2021          2021  TV-MA  2 Seasons   \n",
       "\n",
       "                                         listed_in  \\\n",
       "0                                    Documentaries   \n",
       "1  International TV Shows, TV Dramas, TV Mysteries   \n",
       "\n",
       "                                         description  \n",
       "0  As her father nears the end of his life, filmm...  \n",
       "1  After crossing paths at a party, a Cape Town t...  "
      ]
     },
     "execution_count": 6,
     "metadata": {},
     "output_type": "execute_result"
    }
   ],
   "source": [
    "unprocessed_data.head(2)"
   ]
  },
  {
   "cell_type": "code",
   "execution_count": 7,
   "id": "a78a422b-aae2-4bfe-a3c5-1243c8fff1af",
   "metadata": {},
   "outputs": [
    {
     "name": "stdout",
     "output_type": "stream",
     "text": [
      "<class 'pandas.core.frame.DataFrame'>\n",
      "RangeIndex: 8807 entries, 0 to 8806\n",
      "Data columns (total 12 columns):\n",
      " #   Column        Non-Null Count  Dtype \n",
      "---  ------        --------------  ----- \n",
      " 0   show_id       8807 non-null   object\n",
      " 1   type          8807 non-null   object\n",
      " 2   title         8807 non-null   object\n",
      " 3   director      6173 non-null   object\n",
      " 4   cast          7982 non-null   object\n",
      " 5   country       7976 non-null   object\n",
      " 6   date_added    8797 non-null   object\n",
      " 7   release_year  8807 non-null   int64 \n",
      " 8   rating        8803 non-null   object\n",
      " 9   duration      8804 non-null   object\n",
      " 10  listed_in     8807 non-null   object\n",
      " 11  description   8807 non-null   object\n",
      "dtypes: int64(1), object(11)\n",
      "memory usage: 825.8+ KB\n"
     ]
    }
   ],
   "source": [
    "unprocessed_data.info()"
   ]
  },
  {
   "cell_type": "markdown",
   "id": "960250e3-3bfb-49fa-b47c-d94a6a978cf7",
   "metadata": {},
   "source": [
    "#### OBSERVATIONS\n",
    "\n",
    "* The data has 8807 rows with 12 columns.\n",
    "* There are null values in some columns (director, cast, country, date_added, rating, duration)\n",
    "* We could see the `type` and `rating` to be given as object which needs to be converted to categories\n",
    "* The only numerical field in the dataset is the `release_year`\n",
    "* The `cast` and genre `listed_in` has multiple values which needs to unnested.\n",
    "* The duration has the number of minutes the movie will be running and the other type for how many seasons were released."
   ]
  },
  {
   "cell_type": "code",
   "execution_count": 8,
   "id": "9f007795-c48a-4b4a-b837-b2cc1fe9b02c",
   "metadata": {},
   "outputs": [
    {
     "data": {
      "text/plain": [
       "(8807, 12)"
      ]
     },
     "execution_count": 8,
     "metadata": {},
     "output_type": "execute_result"
    }
   ],
   "source": [
    "unprocessed_data.shape"
   ]
  },
  {
   "cell_type": "code",
   "execution_count": 9,
   "id": "e49625ec-f329-4ef1-b9d8-ae499dad15cf",
   "metadata": {},
   "outputs": [
    {
     "data": {
      "text/plain": [
       "show_id         object\n",
       "type            object\n",
       "title           object\n",
       "director        object\n",
       "cast            object\n",
       "country         object\n",
       "date_added      object\n",
       "release_year     int64\n",
       "rating          object\n",
       "duration        object\n",
       "listed_in       object\n",
       "description     object\n",
       "dtype: object"
      ]
     },
     "execution_count": 9,
     "metadata": {},
     "output_type": "execute_result"
    }
   ],
   "source": [
    "unprocessed_data.dtypes"
   ]
  },
  {
   "cell_type": "code",
   "execution_count": 129,
   "id": "bcff6cbe-7df1-4889-9b67-283f7dc79f60",
   "metadata": {},
   "outputs": [],
   "source": [
    "unprocessed_data['type'] = unprocessed_data['type'].astype('category')\n",
    "unprocessed_data['rating'] = unprocessed_data['rating'].astype('category')"
   ]
  },
  {
   "cell_type": "code",
   "execution_count": 11,
   "id": "163fad77-20dc-4c36-b5e8-414f3e6b40d9",
   "metadata": {},
   "outputs": [
    {
     "data": {
      "text/plain": [
       "show_id           object\n",
       "type            category\n",
       "title             object\n",
       "director          object\n",
       "cast              object\n",
       "country           object\n",
       "date_added        object\n",
       "release_year       int64\n",
       "rating          category\n",
       "duration          object\n",
       "listed_in         object\n",
       "description       object\n",
       "dtype: object"
      ]
     },
     "execution_count": 11,
     "metadata": {},
     "output_type": "execute_result"
    }
   ],
   "source": [
    "unprocessed_data.dtypes"
   ]
  },
  {
   "cell_type": "code",
   "execution_count": 12,
   "id": "d5a460c1-ea02-47e4-801a-29257f4fcb3f",
   "metadata": {},
   "outputs": [
    {
     "data": {
      "text/plain": [
       "show_id            0\n",
       "type               0\n",
       "title              0\n",
       "director        2634\n",
       "cast             825\n",
       "country          831\n",
       "date_added        10\n",
       "release_year       0\n",
       "rating             4\n",
       "duration           3\n",
       "listed_in          0\n",
       "description        0\n",
       "dtype: int64"
      ]
     },
     "execution_count": 12,
     "metadata": {},
     "output_type": "execute_result"
    }
   ],
   "source": [
    "unprocessed_data.isna().sum()"
   ]
  },
  {
   "cell_type": "code",
   "execution_count": 13,
   "id": "f5b93f7c-7faf-421f-8cc6-86ccaefbd746",
   "metadata": {},
   "outputs": [
    {
     "data": {
      "text/html": [
       "<div>\n",
       "<style scoped>\n",
       "    .dataframe tbody tr th:only-of-type {\n",
       "        vertical-align: middle;\n",
       "    }\n",
       "\n",
       "    .dataframe tbody tr th {\n",
       "        vertical-align: top;\n",
       "    }\n",
       "\n",
       "    .dataframe thead th {\n",
       "        text-align: right;\n",
       "    }\n",
       "</style>\n",
       "<table border=\"1\" class=\"dataframe\">\n",
       "  <thead>\n",
       "    <tr style=\"text-align: right;\">\n",
       "      <th></th>\n",
       "      <th>release_year</th>\n",
       "    </tr>\n",
       "  </thead>\n",
       "  <tbody>\n",
       "    <tr>\n",
       "      <th>count</th>\n",
       "      <td>8807.000000</td>\n",
       "    </tr>\n",
       "    <tr>\n",
       "      <th>mean</th>\n",
       "      <td>2014.180198</td>\n",
       "    </tr>\n",
       "    <tr>\n",
       "      <th>std</th>\n",
       "      <td>8.819312</td>\n",
       "    </tr>\n",
       "    <tr>\n",
       "      <th>min</th>\n",
       "      <td>1925.000000</td>\n",
       "    </tr>\n",
       "    <tr>\n",
       "      <th>25%</th>\n",
       "      <td>2013.000000</td>\n",
       "    </tr>\n",
       "    <tr>\n",
       "      <th>50%</th>\n",
       "      <td>2017.000000</td>\n",
       "    </tr>\n",
       "    <tr>\n",
       "      <th>75%</th>\n",
       "      <td>2019.000000</td>\n",
       "    </tr>\n",
       "    <tr>\n",
       "      <th>max</th>\n",
       "      <td>2021.000000</td>\n",
       "    </tr>\n",
       "  </tbody>\n",
       "</table>\n",
       "</div>"
      ],
      "text/plain": [
       "       release_year\n",
       "count   8807.000000\n",
       "mean    2014.180198\n",
       "std        8.819312\n",
       "min     1925.000000\n",
       "25%     2013.000000\n",
       "50%     2017.000000\n",
       "75%     2019.000000\n",
       "max     2021.000000"
      ]
     },
     "execution_count": 13,
     "metadata": {},
     "output_type": "execute_result"
    }
   ],
   "source": [
    "unprocessed_data.describe()"
   ]
  },
  {
   "cell_type": "code",
   "execution_count": 19,
   "id": "ff747364-321f-4103-acb2-39f12b4806bf",
   "metadata": {},
   "outputs": [
    {
     "data": {
      "text/html": [
       "<div>\n",
       "<style scoped>\n",
       "    .dataframe tbody tr th:only-of-type {\n",
       "        vertical-align: middle;\n",
       "    }\n",
       "\n",
       "    .dataframe tbody tr th {\n",
       "        vertical-align: top;\n",
       "    }\n",
       "\n",
       "    .dataframe thead th {\n",
       "        text-align: right;\n",
       "    }\n",
       "</style>\n",
       "<table border=\"1\" class=\"dataframe\">\n",
       "  <thead>\n",
       "    <tr style=\"text-align: right;\">\n",
       "      <th></th>\n",
       "      <th>release_year</th>\n",
       "    </tr>\n",
       "    <tr>\n",
       "      <th>type</th>\n",
       "      <th></th>\n",
       "    </tr>\n",
       "  </thead>\n",
       "  <tbody>\n",
       "    <tr>\n",
       "      <th>Movie</th>\n",
       "      <td>2013.121514</td>\n",
       "    </tr>\n",
       "    <tr>\n",
       "      <th>TV Show</th>\n",
       "      <td>2016.605755</td>\n",
       "    </tr>\n",
       "  </tbody>\n",
       "</table>\n",
       "</div>"
      ],
      "text/plain": [
       "         release_year\n",
       "type                 \n",
       "Movie     2013.121514\n",
       "TV Show   2016.605755"
      ]
     },
     "execution_count": 19,
     "metadata": {},
     "output_type": "execute_result"
    }
   ],
   "source": [
    "unprocessed_data.groupby(\"type\",observed=True).mean(numeric_only=True)"
   ]
  },
  {
   "cell_type": "code",
   "execution_count": 24,
   "id": "bdfe2a31-c44f-4a34-b6a4-ea6dfc0439b0",
   "metadata": {},
   "outputs": [
    {
     "data": {
      "text/html": [
       "<div>\n",
       "<style scoped>\n",
       "    .dataframe tbody tr th:only-of-type {\n",
       "        vertical-align: middle;\n",
       "    }\n",
       "\n",
       "    .dataframe tbody tr th {\n",
       "        vertical-align: top;\n",
       "    }\n",
       "\n",
       "    .dataframe thead th {\n",
       "        text-align: right;\n",
       "    }\n",
       "</style>\n",
       "<table border=\"1\" class=\"dataframe\">\n",
       "  <thead>\n",
       "    <tr style=\"text-align: right;\">\n",
       "      <th></th>\n",
       "      <th>release_year</th>\n",
       "    </tr>\n",
       "    <tr>\n",
       "      <th>rating</th>\n",
       "      <th></th>\n",
       "    </tr>\n",
       "  </thead>\n",
       "  <tbody>\n",
       "    <tr>\n",
       "      <th>66 min</th>\n",
       "      <td>2015.000000</td>\n",
       "    </tr>\n",
       "    <tr>\n",
       "      <th>74 min</th>\n",
       "      <td>2017.000000</td>\n",
       "    </tr>\n",
       "    <tr>\n",
       "      <th>84 min</th>\n",
       "      <td>2010.000000</td>\n",
       "    </tr>\n",
       "    <tr>\n",
       "      <th>G</th>\n",
       "      <td>1997.804878</td>\n",
       "    </tr>\n",
       "    <tr>\n",
       "      <th>NC-17</th>\n",
       "      <td>2015.000000</td>\n",
       "    </tr>\n",
       "    <tr>\n",
       "      <th>NR</th>\n",
       "      <td>2010.912500</td>\n",
       "    </tr>\n",
       "    <tr>\n",
       "      <th>PG</th>\n",
       "      <td>2008.428571</td>\n",
       "    </tr>\n",
       "    <tr>\n",
       "      <th>PG-13</th>\n",
       "      <td>2009.314286</td>\n",
       "    </tr>\n",
       "    <tr>\n",
       "      <th>R</th>\n",
       "      <td>2010.471840</td>\n",
       "    </tr>\n",
       "    <tr>\n",
       "      <th>TV-14</th>\n",
       "      <td>2013.655556</td>\n",
       "    </tr>\n",
       "    <tr>\n",
       "      <th>TV-G</th>\n",
       "      <td>2015.745455</td>\n",
       "    </tr>\n",
       "    <tr>\n",
       "      <th>TV-MA</th>\n",
       "      <td>2016.661678</td>\n",
       "    </tr>\n",
       "    <tr>\n",
       "      <th>TV-PG</th>\n",
       "      <td>2013.529548</td>\n",
       "    </tr>\n",
       "    <tr>\n",
       "      <th>TV-Y</th>\n",
       "      <td>2017.159609</td>\n",
       "    </tr>\n",
       "    <tr>\n",
       "      <th>TV-Y7</th>\n",
       "      <td>2015.508982</td>\n",
       "    </tr>\n",
       "    <tr>\n",
       "      <th>TV-Y7-FV</th>\n",
       "      <td>2014.833333</td>\n",
       "    </tr>\n",
       "    <tr>\n",
       "      <th>UR</th>\n",
       "      <td>1999.333333</td>\n",
       "    </tr>\n",
       "  </tbody>\n",
       "</table>\n",
       "</div>"
      ],
      "text/plain": [
       "          release_year\n",
       "rating                \n",
       "66 min     2015.000000\n",
       "74 min     2017.000000\n",
       "84 min     2010.000000\n",
       "G          1997.804878\n",
       "NC-17      2015.000000\n",
       "NR         2010.912500\n",
       "PG         2008.428571\n",
       "PG-13      2009.314286\n",
       "R          2010.471840\n",
       "TV-14      2013.655556\n",
       "TV-G       2015.745455\n",
       "TV-MA      2016.661678\n",
       "TV-PG      2013.529548\n",
       "TV-Y       2017.159609\n",
       "TV-Y7      2015.508982\n",
       "TV-Y7-FV   2014.833333\n",
       "UR         1999.333333"
      ]
     },
     "execution_count": 24,
     "metadata": {},
     "output_type": "execute_result"
    }
   ],
   "source": [
    "unprocessed_data.groupby(\"rating\",observed=True).mean(numeric_only=True)"
   ]
  },
  {
   "cell_type": "code",
   "execution_count": 16,
   "id": "c4026676-86e7-4ed7-bbf8-458467413d8b",
   "metadata": {},
   "outputs": [
    {
     "name": "stdout",
     "output_type": "stream",
     "text": [
      "[5813, 5541, 5794]\n"
     ]
    }
   ],
   "source": [
    "# print(np.where(unprocessed_data['rating'] == '66 min' )[0][0])\n",
    "# print(np.where(unprocessed_data['rating'] == '74 min' )[0][0])\n",
    "# print(np.where(unprocessed_data['rating'] == '84 min' )[0][0])\n",
    "\n",
    "#for i in unprocessed_data['rating']:\n",
    "    #if i == '66 min' or  i == '74 min' or i == '84 min':\n",
    "\n",
    "invalid_rating_list = []\n",
    "\n",
    "for invalid_rating in ['66 min' ,'74 min','84 min']:\n",
    "    invalid_rating_list.append(np.where(unprocessed_data['rating'] == invalid_rating)[0][0])\n",
    "print(invalid_rating_list)"
   ]
  },
  {
   "cell_type": "code",
   "execution_count": 17,
   "id": "b0f0d0ce-1ade-426f-a9ab-0243fe65d5cf",
   "metadata": {},
   "outputs": [
    {
     "data": {
      "text/html": [
       "<div>\n",
       "<style scoped>\n",
       "    .dataframe tbody tr th:only-of-type {\n",
       "        vertical-align: middle;\n",
       "    }\n",
       "\n",
       "    .dataframe tbody tr th {\n",
       "        vertical-align: top;\n",
       "    }\n",
       "\n",
       "    .dataframe thead th {\n",
       "        text-align: right;\n",
       "    }\n",
       "</style>\n",
       "<table border=\"1\" class=\"dataframe\">\n",
       "  <thead>\n",
       "    <tr style=\"text-align: right;\">\n",
       "      <th></th>\n",
       "      <th>show_id</th>\n",
       "      <th>type</th>\n",
       "      <th>title</th>\n",
       "      <th>director</th>\n",
       "      <th>cast</th>\n",
       "      <th>country</th>\n",
       "      <th>date_added</th>\n",
       "      <th>release_year</th>\n",
       "      <th>rating</th>\n",
       "      <th>duration</th>\n",
       "      <th>listed_in</th>\n",
       "      <th>description</th>\n",
       "    </tr>\n",
       "  </thead>\n",
       "  <tbody>\n",
       "    <tr>\n",
       "      <th>5813</th>\n",
       "      <td>s5814</td>\n",
       "      <td>Movie</td>\n",
       "      <td>Louis C.K.: Live at the Comedy Store</td>\n",
       "      <td>Louis C.K.</td>\n",
       "      <td>Louis C.K.</td>\n",
       "      <td>United States</td>\n",
       "      <td>August 15, 2016</td>\n",
       "      <td>2015</td>\n",
       "      <td>66 min</td>\n",
       "      <td>NaN</td>\n",
       "      <td>Movies</td>\n",
       "      <td>The comic puts his trademark hilarious/thought...</td>\n",
       "    </tr>\n",
       "    <tr>\n",
       "      <th>5541</th>\n",
       "      <td>s5542</td>\n",
       "      <td>Movie</td>\n",
       "      <td>Louis C.K. 2017</td>\n",
       "      <td>Louis C.K.</td>\n",
       "      <td>Louis C.K.</td>\n",
       "      <td>United States</td>\n",
       "      <td>April 4, 2017</td>\n",
       "      <td>2017</td>\n",
       "      <td>74 min</td>\n",
       "      <td>NaN</td>\n",
       "      <td>Movies</td>\n",
       "      <td>Louis C.K. muses on religion, eternal love, gi...</td>\n",
       "    </tr>\n",
       "    <tr>\n",
       "      <th>5794</th>\n",
       "      <td>s5795</td>\n",
       "      <td>Movie</td>\n",
       "      <td>Louis C.K.: Hilarious</td>\n",
       "      <td>Louis C.K.</td>\n",
       "      <td>Louis C.K.</td>\n",
       "      <td>United States</td>\n",
       "      <td>September 16, 2016</td>\n",
       "      <td>2010</td>\n",
       "      <td>84 min</td>\n",
       "      <td>NaN</td>\n",
       "      <td>Movies</td>\n",
       "      <td>Emmy-winning comedy writer Louis C.K. brings h...</td>\n",
       "    </tr>\n",
       "  </tbody>\n",
       "</table>\n",
       "</div>"
      ],
      "text/plain": [
       "     show_id   type                                 title    director  \\\n",
       "5813   s5814  Movie  Louis C.K.: Live at the Comedy Store  Louis C.K.   \n",
       "5541   s5542  Movie                       Louis C.K. 2017  Louis C.K.   \n",
       "5794   s5795  Movie                 Louis C.K.: Hilarious  Louis C.K.   \n",
       "\n",
       "            cast        country          date_added  release_year  rating  \\\n",
       "5813  Louis C.K.  United States     August 15, 2016          2015  66 min   \n",
       "5541  Louis C.K.  United States       April 4, 2017          2017  74 min   \n",
       "5794  Louis C.K.  United States  September 16, 2016          2010  84 min   \n",
       "\n",
       "     duration listed_in                                        description  \n",
       "5813      NaN    Movies  The comic puts his trademark hilarious/thought...  \n",
       "5541      NaN    Movies  Louis C.K. muses on religion, eternal love, gi...  \n",
       "5794      NaN    Movies  Emmy-winning comedy writer Louis C.K. brings h...  "
      ]
     },
     "execution_count": 17,
     "metadata": {},
     "output_type": "execute_result"
    }
   ],
   "source": [
    "unprocessed_data.iloc[invalid_rating_list]"
   ]
  },
  {
   "cell_type": "markdown",
   "id": "2af6b9b4-ca56-434a-a1cd-1623cc4a4ecb",
   "metadata": {},
   "source": [
    "#### OBSERVATIONS\n",
    "\n",
    "* We could see the shape of data of 8807 rows and 12 columns as mentioned in the above observation.\n",
    "* We have converted the `type` and `rating` columns to categories.\n",
    "* We have movies/shows that were released between 1925 to 2021.\n",
    "* On average, we could see the value to be 2014 meaning that 2014 - 2021 (`7 years`) has the same number of movies/shows as 1925 - 2014 (`89 years`)\n",
    "* Based on `type` of movies/shows, on average it as 2013 and 2016 respectively.\n",
    "* we could see the `duration` to be missing but present in `rating` column.\n",
    "* `rating` column also has 2 values as NR(`Not Rated`) and UR(`UnRated`) which are the same. (If a film has not been submitted for a rating or is an uncut version of a film that was submitted, the labels Not Rated (NR) or Unrated (UR) are often used.)"
   ]
  },
  {
   "cell_type": "markdown",
   "id": "d74c114b-f718-4a15-a661-f9e77c222066",
   "metadata": {},
   "source": [
    "#### NON GRAPHICAL ANALYSIS"
   ]
  },
  {
   "cell_type": "code",
   "execution_count": 32,
   "id": "41672fd2-e92a-4075-8116-6efc8ce6688e",
   "metadata": {},
   "outputs": [
    {
     "data": {
      "text/plain": [
       "type\n",
       "Movie      6131\n",
       "TV Show    2676\n",
       "Name: count, dtype: int64"
      ]
     },
     "execution_count": 32,
     "metadata": {},
     "output_type": "execute_result"
    }
   ],
   "source": [
    "# type\n",
    "\n",
    "unprocessed_data['type'].value_counts()"
   ]
  },
  {
   "cell_type": "code",
   "execution_count": 33,
   "id": "2034eafc-1c8a-4fe0-b4da-d0fd8ea61e43",
   "metadata": {},
   "outputs": [
    {
     "data": {
      "text/plain": [
       "director\n",
       "Rajiv Chilaka                     19\n",
       "Raúl Campos, Jan Suter            18\n",
       "Marcus Raboy                      16\n",
       "Suhas Kadav                       16\n",
       "Jay Karas                         14\n",
       "                                  ..\n",
       "Raymie Muzquiz, Stu Livingston     1\n",
       "Joe Menendez                       1\n",
       "Eric Bross                         1\n",
       "Will Eisenberg                     1\n",
       "Mozez Singh                        1\n",
       "Name: count, Length: 4528, dtype: int64"
      ]
     },
     "execution_count": 33,
     "metadata": {},
     "output_type": "execute_result"
    }
   ],
   "source": [
    "# director\n",
    "\n",
    "unprocessed_data['director'].value_counts()"
   ]
  },
  {
   "cell_type": "code",
   "execution_count": 57,
   "id": "39ce40e3-ba9f-4ea9-8d41-775afe3a8ab5",
   "metadata": {},
   "outputs": [
    {
     "data": {
      "text/plain": [
       "0                     Kirsten Johnson\n",
       "2                     Julien Leclercq\n",
       "5                       Mike Flanagan\n",
       "6       Robert Cullen, José Luis Ucha\n",
       "7                        Haile Gerima\n",
       "                    ...              \n",
       "8801                  Majid Al Ansari\n",
       "8802                    David Fincher\n",
       "8804                  Ruben Fleischer\n",
       "8805                     Peter Hewitt\n",
       "8806                      Mozez Singh\n",
       "Name: director, Length: 6020, dtype: object"
      ]
     },
     "execution_count": 57,
     "metadata": {},
     "output_type": "execute_result"
    }
   ],
   "source": [
    "unprocessed_data[unprocessed_data['director'].isin(unprocessed_data['director'].value_counts()[unprocessed_data['director'].value_counts()<10].index)].director"
   ]
  },
  {
   "cell_type": "code",
   "execution_count": 56,
   "id": "b69ea799-17f7-4208-afb3-5dc645ceba47",
   "metadata": {},
   "outputs": [
    {
     "data": {
      "text/plain": [
       "41         Steven Spielberg\n",
       "329        Steven Spielberg\n",
       "406           Rajiv Chilaka\n",
       "407           Rajiv Chilaka\n",
       "408           Rajiv Chilaka\n",
       "               ...         \n",
       "8625       Don Michael Paul\n",
       "8626       Don Michael Paul\n",
       "8696       Steven Spielberg\n",
       "8735        Martin Scorsese\n",
       "8789    Cathy Garcia-Molina\n",
       "Name: director, Length: 153, dtype: object"
      ]
     },
     "execution_count": 56,
     "metadata": {},
     "output_type": "execute_result"
    }
   ],
   "source": [
    "unprocessed_data[unprocessed_data['director'].isin(unprocessed_data['director'].value_counts()[unprocessed_data['director'].value_counts()>=10].index)].director"
   ]
  },
  {
   "cell_type": "code",
   "execution_count": 58,
   "id": "2f43f568-9b3a-4890-85dd-58b8955d2645",
   "metadata": {},
   "outputs": [
    {
     "data": {
      "text/plain": [
       "0                     Kirsten Johnson\n",
       "6       Robert Cullen, José Luis Ucha\n",
       "7                        Haile Gerima\n",
       "8                     Andy Devonshire\n",
       "9                      Theodore Melfi\n",
       "                    ...              \n",
       "8792                           Mu Chu\n",
       "8798          Chandra Prakash Dwivedi\n",
       "8801                  Majid Al Ansari\n",
       "8805                     Peter Hewitt\n",
       "8806                      Mozez Singh\n",
       "Name: director, Length: 3661, dtype: object"
      ]
     },
     "execution_count": 58,
     "metadata": {},
     "output_type": "execute_result"
    }
   ],
   "source": [
    "unprocessed_data[unprocessed_data['director'].isin(unprocessed_data['director'].value_counts()[unprocessed_data['director'].value_counts()==1].index)].director"
   ]
  },
  {
   "cell_type": "code",
   "execution_count": 64,
   "id": "27b4f515-d600-408b-90e6-ba3ba9dcc8e4",
   "metadata": {},
   "outputs": [
    {
     "name": "stdout",
     "output_type": "stream",
     "text": [
      "1.3632950530035335\n",
      "1.0\n"
     ]
    }
   ],
   "source": [
    "print(unprocessed_data['director'].value_counts().values.mean())\n",
    "print(np.median(unprocessed_data['director'].value_counts().values))"
   ]
  },
  {
   "cell_type": "code",
   "execution_count": 59,
   "id": "f2cb842b-1934-4ef6-9ab9-f44fea079728",
   "metadata": {},
   "outputs": [
    {
     "data": {
      "text/plain": [
       "4528"
      ]
     },
     "execution_count": 59,
     "metadata": {},
     "output_type": "execute_result"
    }
   ],
   "source": [
    "unprocessed_data['director'].nunique()"
   ]
  },
  {
   "cell_type": "code",
   "execution_count": 65,
   "id": "4f193569-23d8-41be-bbf1-f454cdf77830",
   "metadata": {},
   "outputs": [
    {
     "data": {
      "text/plain": [
       "cast\n",
       "David Attenborough                                                                                                                                                                            19\n",
       "Vatsal Dubey, Julie Tejwani, Rupa Bhimani, Jigna Bhardwaj, Rajesh Kava, Mousam, Swapnil                                                                                                       14\n",
       "Samuel West                                                                                                                                                                                   10\n",
       "Jeff Dunham                                                                                                                                                                                    7\n",
       "David Spade, London Hughes, Fortune Feimster                                                                                                                                                   6\n",
       "                                                                                                                                                                                              ..\n",
       "Michael Peña, Diego Luna, Tenoch Huerta, Joaquin Cosio, José María Yazpik, Matt Letscher, Alyssa Diaz                                                                                          1\n",
       "Nick Lachey, Vanessa Lachey                                                                                                                                                                    1\n",
       "Takeru Sato, Kasumi Arimura, Haru, Kentaro Sakaguchi, Takayuki Yamada, Kendo Kobayashi, Ken Yasuda, Arata Furuta, Suzuki Matsuo, Koichi Yamadera, Arata Iura, Chikako Kaku, Kotaro Yoshida     1\n",
       "Toyin Abraham, Sambasa Nzeribe, Chioma Chukwuka Akpotha, Chioma Omeruah, Chiwetalu Agu, Dele Odule, Femi Adebayo, Bayray McNwizu, Biodun Stephen                                               1\n",
       "Vicky Kaushal, Sarah-Jane Dias, Raaghav Chanana, Manish Chaudhary, Meghna Malik, Malkeet Rauni, Anita Shabdish, Chittaranjan Tripathy                                                          1\n",
       "Name: count, Length: 7692, dtype: int64"
      ]
     },
     "execution_count": 65,
     "metadata": {},
     "output_type": "execute_result"
    }
   ],
   "source": [
    "# cast\n",
    "\n",
    "unprocessed_data['cast'].value_counts()"
   ]
  },
  {
   "cell_type": "code",
   "execution_count": 66,
   "id": "3db0f451-ce98-4cd8-8eed-3067244b5577",
   "metadata": {},
   "outputs": [
    {
     "data": {
      "text/plain": [
       "country\n",
       "United States                             2818\n",
       "India                                      972\n",
       "United Kingdom                             419\n",
       "Japan                                      245\n",
       "South Korea                                199\n",
       "                                          ... \n",
       "Romania, Bulgaria, Hungary                   1\n",
       "Uruguay, Guatemala                           1\n",
       "France, Senegal, Belgium                     1\n",
       "Mexico, United States, Spain, Colombia       1\n",
       "United Arab Emirates, Jordan                 1\n",
       "Name: count, Length: 748, dtype: int64"
      ]
     },
     "execution_count": 66,
     "metadata": {},
     "output_type": "execute_result"
    }
   ],
   "source": [
    "# country\n",
    "\n",
    "unprocessed_data['country'].value_counts()"
   ]
  },
  {
   "cell_type": "code",
   "execution_count": 82,
   "id": "fa3e18db-ecfa-49dd-8e23-36beee95874e",
   "metadata": {},
   "outputs": [
    {
     "data": {
      "text/plain": [
       "date_added       \n",
       "January 1, 2020      109\n",
       "November 1, 2019      89\n",
       "March 1, 2018         75\n",
       "December 31, 2019     74\n",
       "October 1, 2018       71\n",
       "July 1, 2021          60\n",
       "October 1, 2019       60\n",
       "November 1, 2018      60\n",
       "September 1, 2021     56\n",
       "January 1, 2018       52\n",
       "July 1, 2019          52\n",
       "June 2, 2021          51\n",
       "January 1, 2021       49\n",
       "October 1, 2017       47\n",
       "April 1, 2018         44\n",
       "April 1, 2020         43\n",
       "May 1, 2018           41\n",
       "July 1, 2018          40\n",
       "August 1, 2017        39\n",
       "July 6, 2021          39\n",
       "July 1, 2017          38\n",
       "September 1, 2017     38\n",
       "August 1, 2021        38\n",
       "February 1, 2019      38\n",
       "January 1, 2019       37\n",
       "Name: count, dtype: int64"
      ]
     },
     "execution_count": 82,
     "metadata": {},
     "output_type": "execute_result"
    }
   ],
   "source": [
    "# date_added\n",
    "\n",
    "unprocessed_data[['date_added']].value_counts().head(25)"
   ]
  },
  {
   "cell_type": "code",
   "execution_count": 90,
   "id": "be9567d0-663b-4460-a486-3748c4f21363",
   "metadata": {},
   "outputs": [
    {
     "data": {
      "text/plain": [
       "date_added         type   \n",
       "January 1, 2020    Movie      97\n",
       "November 1, 2019   Movie      75\n",
       "March 1, 2018      Movie      72\n",
       "December 31, 2019  Movie      67\n",
       "October 1, 2018    Movie      64\n",
       "November 1, 2018   Movie      55\n",
       "July 1, 2021       Movie      53\n",
       "October 1, 2019    Movie      51\n",
       "September 1, 2021  Movie      48\n",
       "January 1, 2018    Movie      47\n",
       "July 1, 2019       Movie      43\n",
       "June 2, 2021       Movie      42\n",
       "January 1, 2021    Movie      41\n",
       "July 1, 2018       Movie      38\n",
       "April 1, 2018      Movie      38\n",
       "October 1, 2017    Movie      34\n",
       "April 1, 2020      Movie      34\n",
       "January 1, 2019    Movie      33\n",
       "August 1, 2021     Movie      33\n",
       "August 1, 2018     Movie      33\n",
       "May 1, 2018        Movie      32\n",
       "July 6, 2021       TV Show    31\n",
       "May 1, 2021        Movie      30\n",
       "September 1, 2017  Movie      29\n",
       "July 5, 2020       Movie      28\n",
       "Name: count, dtype: int64"
      ]
     },
     "execution_count": 90,
     "metadata": {},
     "output_type": "execute_result"
    }
   ],
   "source": [
    "# date_added\n",
    "\n",
    "unprocessed_data[['date_added', 'type']].value_counts().head(25)"
   ]
  },
  {
   "cell_type": "code",
   "execution_count": 101,
   "id": "b38f2bbb-7745-4148-863a-962897eefd4e",
   "metadata": {},
   "outputs": [
    {
     "data": {
      "text/plain": [
       "type\n",
       "Movie      97\n",
       "TV Show    12\n",
       "Name: date_added, dtype: int64"
      ]
     },
     "execution_count": 101,
     "metadata": {},
     "output_type": "execute_result"
    }
   ],
   "source": [
    "# date_added\n",
    "# validating if the count matches\n",
    "\n",
    "unprocessed_data[unprocessed_data['date_added'] == 'January 1, 2020'].groupby('type', observed=False).count()['date_added']"
   ]
  },
  {
   "cell_type": "code",
   "execution_count": 68,
   "id": "543b8d52-5eb6-403d-8f07-4ac792cd4388",
   "metadata": {},
   "outputs": [
    {
     "data": {
      "text/plain": [
       "release_year\n",
       "2018    1147\n",
       "2017    1032\n",
       "2019    1030\n",
       "2020     953\n",
       "2016     902\n",
       "        ... \n",
       "1959       1\n",
       "1925       1\n",
       "1961       1\n",
       "1947       1\n",
       "1966       1\n",
       "Name: count, Length: 74, dtype: int64"
      ]
     },
     "execution_count": 68,
     "metadata": {},
     "output_type": "execute_result"
    }
   ],
   "source": [
    "# release_year\n",
    "\n",
    "unprocessed_data['release_year'].value_counts() "
   ]
  },
  {
   "cell_type": "code",
   "execution_count": 103,
   "id": "a3ac5842-8d7c-455d-b4e0-6046784c308f",
   "metadata": {},
   "outputs": [
    {
     "data": {
      "text/plain": [
       "array([2020, 2021, 1993, 2018, 1996, 1998, 1997, 2010, 2013, 2017, 1975,\n",
       "       1978, 1983, 1987, 2012, 2001, 2014, 2002, 2003, 2004, 2011, 2008,\n",
       "       2009, 2007, 2005, 2006, 1994, 2015, 2019, 2016, 1982, 1989, 1990,\n",
       "       1991, 1999, 1986, 1992, 1984, 1980, 1961, 2000, 1995, 1985, 1976,\n",
       "       1959, 1988, 1981, 1972, 1964, 1945, 1954, 1979, 1958, 1956, 1963,\n",
       "       1970, 1973, 1925, 1974, 1960, 1966, 1971, 1962, 1969, 1977, 1967,\n",
       "       1968, 1965, 1946, 1942, 1955, 1944, 1947, 1943], dtype=int64)"
      ]
     },
     "execution_count": 103,
     "metadata": {},
     "output_type": "execute_result"
    }
   ],
   "source": [
    "unprocessed_data['release_year'].unique()"
   ]
  },
  {
   "cell_type": "code",
   "execution_count": 104,
   "id": "5237e149-64f9-4278-a628-1575d4bc776b",
   "metadata": {},
   "outputs": [
    {
     "data": {
      "text/plain": [
       "74"
      ]
     },
     "execution_count": 104,
     "metadata": {},
     "output_type": "execute_result"
    }
   ],
   "source": [
    "len(unprocessed_data['release_year'].unique())"
   ]
  },
  {
   "cell_type": "code",
   "execution_count": 69,
   "id": "c5e591e3-a99b-4090-9d27-7244179ab964",
   "metadata": {},
   "outputs": [
    {
     "data": {
      "text/plain": [
       "duration\n",
       "1 Season     1793\n",
       "2 Seasons     425\n",
       "3 Seasons     199\n",
       "90 min        152\n",
       "94 min        146\n",
       "             ... \n",
       "16 min          1\n",
       "186 min         1\n",
       "193 min         1\n",
       "189 min         1\n",
       "191 min         1\n",
       "Name: count, Length: 220, dtype: int64"
      ]
     },
     "execution_count": 69,
     "metadata": {},
     "output_type": "execute_result"
    }
   ],
   "source": [
    "# duration\n",
    "\n",
    "unprocessed_data['duration'].value_counts()"
   ]
  },
  {
   "cell_type": "code",
   "execution_count": 81,
   "id": "3cf18811-f1d5-40da-a681-c24498bd6d3b",
   "metadata": {},
   "outputs": [
    {
     "data": {
      "text/plain": [
       "duration\n",
       "1 Season     1793\n",
       "2 Seasons     425\n",
       "3 Seasons     199\n",
       "90 min        152\n",
       "94 min        146\n",
       "97 min        146\n",
       "93 min        146\n",
       "91 min        144\n",
       "95 min        137\n",
       "96 min        130\n",
       "92 min        129\n",
       "102 min       122\n",
       "98 min        120\n",
       "99 min        118\n",
       "101 min       116\n",
       "88 min        116\n",
       "103 min       114\n",
       "106 min       111\n",
       "100 min       108\n",
       "89 min        106\n",
       "104 min       104\n",
       "86 min        103\n",
       "105 min       101\n",
       "87 min        101\n",
       "107 min        98\n",
       "110 min        97\n",
       "4 Seasons      95\n",
       "108 min        87\n",
       "116 min        80\n",
       "112 min        74\n",
       "Name: count, dtype: int64"
      ]
     },
     "execution_count": 81,
     "metadata": {},
     "output_type": "execute_result"
    }
   ],
   "source": [
    "unprocessed_data['duration'].value_counts().head(30)"
   ]
  },
  {
   "cell_type": "code",
   "execution_count": 31,
   "id": "ec2bad0b-24ac-4501-acab-f2ffec30999c",
   "metadata": {},
   "outputs": [
    {
     "data": {
      "text/plain": [
       "Index(['show_id', 'type', 'title', 'director', 'cast', 'country', 'date_added',\n",
       "       'release_year', 'rating', 'duration', 'listed_in', 'description'],\n",
       "      dtype='object')"
      ]
     },
     "execution_count": 31,
     "metadata": {},
     "output_type": "execute_result"
    }
   ],
   "source": [
    "unprocessed_data.columns"
   ]
  },
  {
   "cell_type": "markdown",
   "id": "4872e395-60c6-45eb-9723-ceb515a03908",
   "metadata": {},
   "source": [
    "#### OBSERVATIONS\n",
    "\n",
    "* We have 6131 movies and 2676 tv shows in netflix platform.\n",
    "* out of 4528 directors, 3661 directors directed 1 movie/shows and 153 directors took more than 9 movies/shows.(We further needs to split the directors as more than 1 director has directed some shows/movies)\n",
    "* Using `cast`, we need to list the individual actors list to get the count as multiple cast individuals play roles in the movies/shows.\n",
    "* The shows/movies are added to the netflix platform mostly on the 1st of each month, on some occasions it will be some other dates, we need to further segregate them into days, months and years to get the exact dates and month with the `type` to recommend.\n",
    "* Most movies have `duration` of more than 80 minutes and can further be split into seasons and minutes to get the average time to see how many hours/minutes are our customers will need to spend time on.\n",
    "* We have movies released in 74 different years."
   ]
  },
  {
   "cell_type": "markdown",
   "id": "f470c0de-8801-445f-94da-85f367429f68",
   "metadata": {},
   "source": [
    "#### UNNESTING VALUES"
   ]
  },
  {
   "cell_type": "code",
   "execution_count": 130,
   "id": "669a56b2-aba5-46a0-91d5-6aa43ab5f3f5",
   "metadata": {},
   "outputs": [
    {
     "data": {
      "text/html": [
       "<div>\n",
       "<style scoped>\n",
       "    .dataframe tbody tr th:only-of-type {\n",
       "        vertical-align: middle;\n",
       "    }\n",
       "\n",
       "    .dataframe tbody tr th {\n",
       "        vertical-align: top;\n",
       "    }\n",
       "\n",
       "    .dataframe thead th {\n",
       "        text-align: right;\n",
       "    }\n",
       "</style>\n",
       "<table border=\"1\" class=\"dataframe\">\n",
       "  <thead>\n",
       "    <tr style=\"text-align: right;\">\n",
       "      <th></th>\n",
       "      <th>show_id</th>\n",
       "      <th>type</th>\n",
       "      <th>title</th>\n",
       "      <th>director</th>\n",
       "      <th>cast</th>\n",
       "      <th>country</th>\n",
       "      <th>date_added</th>\n",
       "      <th>release_year</th>\n",
       "      <th>rating</th>\n",
       "      <th>duration</th>\n",
       "      <th>listed_in</th>\n",
       "      <th>description</th>\n",
       "    </tr>\n",
       "  </thead>\n",
       "  <tbody>\n",
       "    <tr>\n",
       "      <th>0</th>\n",
       "      <td>s1</td>\n",
       "      <td>Movie</td>\n",
       "      <td>Dick Johnson Is Dead</td>\n",
       "      <td>Kirsten Johnson</td>\n",
       "      <td>NaN</td>\n",
       "      <td>United States</td>\n",
       "      <td>September 25, 2021</td>\n",
       "      <td>2020</td>\n",
       "      <td>PG-13</td>\n",
       "      <td>90 min</td>\n",
       "      <td>Documentaries</td>\n",
       "      <td>As her father nears the end of his life, filmm...</td>\n",
       "    </tr>\n",
       "    <tr>\n",
       "      <th>1</th>\n",
       "      <td>s2</td>\n",
       "      <td>TV Show</td>\n",
       "      <td>Blood &amp; Water</td>\n",
       "      <td>NaN</td>\n",
       "      <td>Ama Qamata, Khosi Ngema, Gail Mabalane, Thaban...</td>\n",
       "      <td>South Africa</td>\n",
       "      <td>September 24, 2021</td>\n",
       "      <td>2021</td>\n",
       "      <td>TV-MA</td>\n",
       "      <td>2 Seasons</td>\n",
       "      <td>International TV Shows, TV Dramas, TV Mysteries</td>\n",
       "      <td>After crossing paths at a party, a Cape Town t...</td>\n",
       "    </tr>\n",
       "    <tr>\n",
       "      <th>2</th>\n",
       "      <td>s3</td>\n",
       "      <td>TV Show</td>\n",
       "      <td>Ganglands</td>\n",
       "      <td>Julien Leclercq</td>\n",
       "      <td>Sami Bouajila, Tracy Gotoas, Samuel Jouy, Nabi...</td>\n",
       "      <td>NaN</td>\n",
       "      <td>September 24, 2021</td>\n",
       "      <td>2021</td>\n",
       "      <td>TV-MA</td>\n",
       "      <td>1 Season</td>\n",
       "      <td>Crime TV Shows, International TV Shows, TV Act...</td>\n",
       "      <td>To protect his family from a powerful drug lor...</td>\n",
       "    </tr>\n",
       "    <tr>\n",
       "      <th>3</th>\n",
       "      <td>s4</td>\n",
       "      <td>TV Show</td>\n",
       "      <td>Jailbirds New Orleans</td>\n",
       "      <td>NaN</td>\n",
       "      <td>NaN</td>\n",
       "      <td>NaN</td>\n",
       "      <td>September 24, 2021</td>\n",
       "      <td>2021</td>\n",
       "      <td>TV-MA</td>\n",
       "      <td>1 Season</td>\n",
       "      <td>Docuseries, Reality TV</td>\n",
       "      <td>Feuds, flirtations and toilet talk go down amo...</td>\n",
       "    </tr>\n",
       "    <tr>\n",
       "      <th>4</th>\n",
       "      <td>s5</td>\n",
       "      <td>TV Show</td>\n",
       "      <td>Kota Factory</td>\n",
       "      <td>NaN</td>\n",
       "      <td>Mayur More, Jitendra Kumar, Ranjan Raj, Alam K...</td>\n",
       "      <td>India</td>\n",
       "      <td>September 24, 2021</td>\n",
       "      <td>2021</td>\n",
       "      <td>TV-MA</td>\n",
       "      <td>2 Seasons</td>\n",
       "      <td>International TV Shows, Romantic TV Shows, TV ...</td>\n",
       "      <td>In a city of coaching centers known to train I...</td>\n",
       "    </tr>\n",
       "    <tr>\n",
       "      <th>5</th>\n",
       "      <td>s6</td>\n",
       "      <td>TV Show</td>\n",
       "      <td>Midnight Mass</td>\n",
       "      <td>Mike Flanagan</td>\n",
       "      <td>Kate Siegel, Zach Gilford, Hamish Linklater, H...</td>\n",
       "      <td>NaN</td>\n",
       "      <td>September 24, 2021</td>\n",
       "      <td>2021</td>\n",
       "      <td>TV-MA</td>\n",
       "      <td>1 Season</td>\n",
       "      <td>TV Dramas, TV Horror, TV Mysteries</td>\n",
       "      <td>The arrival of a charismatic young priest brin...</td>\n",
       "    </tr>\n",
       "    <tr>\n",
       "      <th>6</th>\n",
       "      <td>s7</td>\n",
       "      <td>Movie</td>\n",
       "      <td>My Little Pony: A New Generation</td>\n",
       "      <td>Robert Cullen, José Luis Ucha</td>\n",
       "      <td>Vanessa Hudgens, Kimiko Glenn, James Marsden, ...</td>\n",
       "      <td>NaN</td>\n",
       "      <td>September 24, 2021</td>\n",
       "      <td>2021</td>\n",
       "      <td>PG</td>\n",
       "      <td>91 min</td>\n",
       "      <td>Children &amp; Family Movies</td>\n",
       "      <td>Equestria's divided. But a bright-eyed hero be...</td>\n",
       "    </tr>\n",
       "    <tr>\n",
       "      <th>7</th>\n",
       "      <td>s8</td>\n",
       "      <td>Movie</td>\n",
       "      <td>Sankofa</td>\n",
       "      <td>Haile Gerima</td>\n",
       "      <td>Kofi Ghanaba, Oyafunmike Ogunlano, Alexandra D...</td>\n",
       "      <td>United States, Ghana, Burkina Faso, United Kin...</td>\n",
       "      <td>September 24, 2021</td>\n",
       "      <td>1993</td>\n",
       "      <td>TV-MA</td>\n",
       "      <td>125 min</td>\n",
       "      <td>Dramas, Independent Movies, International Movies</td>\n",
       "      <td>On a photo shoot in Ghana, an American model s...</td>\n",
       "    </tr>\n",
       "    <tr>\n",
       "      <th>8</th>\n",
       "      <td>s9</td>\n",
       "      <td>TV Show</td>\n",
       "      <td>The Great British Baking Show</td>\n",
       "      <td>Andy Devonshire</td>\n",
       "      <td>Mel Giedroyc, Sue Perkins, Mary Berry, Paul Ho...</td>\n",
       "      <td>United Kingdom</td>\n",
       "      <td>September 24, 2021</td>\n",
       "      <td>2021</td>\n",
       "      <td>TV-14</td>\n",
       "      <td>9 Seasons</td>\n",
       "      <td>British TV Shows, Reality TV</td>\n",
       "      <td>A talented batch of amateur bakers face off in...</td>\n",
       "    </tr>\n",
       "    <tr>\n",
       "      <th>9</th>\n",
       "      <td>s10</td>\n",
       "      <td>Movie</td>\n",
       "      <td>The Starling</td>\n",
       "      <td>Theodore Melfi</td>\n",
       "      <td>Melissa McCarthy, Chris O'Dowd, Kevin Kline, T...</td>\n",
       "      <td>United States</td>\n",
       "      <td>September 24, 2021</td>\n",
       "      <td>2021</td>\n",
       "      <td>PG-13</td>\n",
       "      <td>104 min</td>\n",
       "      <td>Comedies, Dramas</td>\n",
       "      <td>A woman adjusting to life after a loss contend...</td>\n",
       "    </tr>\n",
       "    <tr>\n",
       "      <th>10</th>\n",
       "      <td>s11</td>\n",
       "      <td>TV Show</td>\n",
       "      <td>Vendetta: Truth, Lies and The Mafia</td>\n",
       "      <td>NaN</td>\n",
       "      <td>NaN</td>\n",
       "      <td>NaN</td>\n",
       "      <td>September 24, 2021</td>\n",
       "      <td>2021</td>\n",
       "      <td>TV-MA</td>\n",
       "      <td>1 Season</td>\n",
       "      <td>Crime TV Shows, Docuseries, International TV S...</td>\n",
       "      <td>Sicily boasts a bold \"Anti-Mafia\" coalition. B...</td>\n",
       "    </tr>\n",
       "    <tr>\n",
       "      <th>11</th>\n",
       "      <td>s12</td>\n",
       "      <td>TV Show</td>\n",
       "      <td>Bangkok Breaking</td>\n",
       "      <td>Kongkiat Komesiri</td>\n",
       "      <td>Sukollawat Kanarot, Sushar Manaying, Pavarit M...</td>\n",
       "      <td>NaN</td>\n",
       "      <td>September 23, 2021</td>\n",
       "      <td>2021</td>\n",
       "      <td>TV-MA</td>\n",
       "      <td>1 Season</td>\n",
       "      <td>Crime TV Shows, International TV Shows, TV Act...</td>\n",
       "      <td>Struggling to earn a living in Bangkok, a man ...</td>\n",
       "    </tr>\n",
       "    <tr>\n",
       "      <th>12</th>\n",
       "      <td>s13</td>\n",
       "      <td>Movie</td>\n",
       "      <td>Je Suis Karl</td>\n",
       "      <td>Christian Schwochow</td>\n",
       "      <td>Luna Wedler, Jannis Niewöhner, Milan Peschel, ...</td>\n",
       "      <td>Germany, Czech Republic</td>\n",
       "      <td>September 23, 2021</td>\n",
       "      <td>2021</td>\n",
       "      <td>TV-MA</td>\n",
       "      <td>127 min</td>\n",
       "      <td>Dramas, International Movies</td>\n",
       "      <td>After most of her family is murdered in a terr...</td>\n",
       "    </tr>\n",
       "    <tr>\n",
       "      <th>13</th>\n",
       "      <td>s14</td>\n",
       "      <td>Movie</td>\n",
       "      <td>Confessions of an Invisible Girl</td>\n",
       "      <td>Bruno Garotti</td>\n",
       "      <td>Klara Castanho, Lucca Picon, Júlia Gomes, Marc...</td>\n",
       "      <td>NaN</td>\n",
       "      <td>September 22, 2021</td>\n",
       "      <td>2021</td>\n",
       "      <td>TV-PG</td>\n",
       "      <td>91 min</td>\n",
       "      <td>Children &amp; Family Movies, Comedies</td>\n",
       "      <td>When the clever but socially-awkward Tetê join...</td>\n",
       "    </tr>\n",
       "    <tr>\n",
       "      <th>14</th>\n",
       "      <td>s15</td>\n",
       "      <td>TV Show</td>\n",
       "      <td>Crime Stories: India Detectives</td>\n",
       "      <td>NaN</td>\n",
       "      <td>NaN</td>\n",
       "      <td>NaN</td>\n",
       "      <td>September 22, 2021</td>\n",
       "      <td>2021</td>\n",
       "      <td>TV-MA</td>\n",
       "      <td>1 Season</td>\n",
       "      <td>British TV Shows, Crime TV Shows, Docuseries</td>\n",
       "      <td>Cameras following Bengaluru police on the job ...</td>\n",
       "    </tr>\n",
       "  </tbody>\n",
       "</table>\n",
       "</div>"
      ],
      "text/plain": [
       "   show_id     type                                title  \\\n",
       "0       s1    Movie                 Dick Johnson Is Dead   \n",
       "1       s2  TV Show                        Blood & Water   \n",
       "2       s3  TV Show                            Ganglands   \n",
       "3       s4  TV Show                Jailbirds New Orleans   \n",
       "4       s5  TV Show                         Kota Factory   \n",
       "5       s6  TV Show                        Midnight Mass   \n",
       "6       s7    Movie     My Little Pony: A New Generation   \n",
       "7       s8    Movie                              Sankofa   \n",
       "8       s9  TV Show        The Great British Baking Show   \n",
       "9      s10    Movie                         The Starling   \n",
       "10     s11  TV Show  Vendetta: Truth, Lies and The Mafia   \n",
       "11     s12  TV Show                     Bangkok Breaking   \n",
       "12     s13    Movie                         Je Suis Karl   \n",
       "13     s14    Movie     Confessions of an Invisible Girl   \n",
       "14     s15  TV Show      Crime Stories: India Detectives   \n",
       "\n",
       "                         director  \\\n",
       "0                 Kirsten Johnson   \n",
       "1                             NaN   \n",
       "2                 Julien Leclercq   \n",
       "3                             NaN   \n",
       "4                             NaN   \n",
       "5                   Mike Flanagan   \n",
       "6   Robert Cullen, José Luis Ucha   \n",
       "7                    Haile Gerima   \n",
       "8                 Andy Devonshire   \n",
       "9                  Theodore Melfi   \n",
       "10                            NaN   \n",
       "11              Kongkiat Komesiri   \n",
       "12            Christian Schwochow   \n",
       "13                  Bruno Garotti   \n",
       "14                            NaN   \n",
       "\n",
       "                                                 cast  \\\n",
       "0                                                 NaN   \n",
       "1   Ama Qamata, Khosi Ngema, Gail Mabalane, Thaban...   \n",
       "2   Sami Bouajila, Tracy Gotoas, Samuel Jouy, Nabi...   \n",
       "3                                                 NaN   \n",
       "4   Mayur More, Jitendra Kumar, Ranjan Raj, Alam K...   \n",
       "5   Kate Siegel, Zach Gilford, Hamish Linklater, H...   \n",
       "6   Vanessa Hudgens, Kimiko Glenn, James Marsden, ...   \n",
       "7   Kofi Ghanaba, Oyafunmike Ogunlano, Alexandra D...   \n",
       "8   Mel Giedroyc, Sue Perkins, Mary Berry, Paul Ho...   \n",
       "9   Melissa McCarthy, Chris O'Dowd, Kevin Kline, T...   \n",
       "10                                                NaN   \n",
       "11  Sukollawat Kanarot, Sushar Manaying, Pavarit M...   \n",
       "12  Luna Wedler, Jannis Niewöhner, Milan Peschel, ...   \n",
       "13  Klara Castanho, Lucca Picon, Júlia Gomes, Marc...   \n",
       "14                                                NaN   \n",
       "\n",
       "                                              country          date_added  \\\n",
       "0                                       United States  September 25, 2021   \n",
       "1                                        South Africa  September 24, 2021   \n",
       "2                                                 NaN  September 24, 2021   \n",
       "3                                                 NaN  September 24, 2021   \n",
       "4                                               India  September 24, 2021   \n",
       "5                                                 NaN  September 24, 2021   \n",
       "6                                                 NaN  September 24, 2021   \n",
       "7   United States, Ghana, Burkina Faso, United Kin...  September 24, 2021   \n",
       "8                                      United Kingdom  September 24, 2021   \n",
       "9                                       United States  September 24, 2021   \n",
       "10                                                NaN  September 24, 2021   \n",
       "11                                                NaN  September 23, 2021   \n",
       "12                            Germany, Czech Republic  September 23, 2021   \n",
       "13                                                NaN  September 22, 2021   \n",
       "14                                                NaN  September 22, 2021   \n",
       "\n",
       "    release_year rating   duration  \\\n",
       "0           2020  PG-13     90 min   \n",
       "1           2021  TV-MA  2 Seasons   \n",
       "2           2021  TV-MA   1 Season   \n",
       "3           2021  TV-MA   1 Season   \n",
       "4           2021  TV-MA  2 Seasons   \n",
       "5           2021  TV-MA   1 Season   \n",
       "6           2021     PG     91 min   \n",
       "7           1993  TV-MA    125 min   \n",
       "8           2021  TV-14  9 Seasons   \n",
       "9           2021  PG-13    104 min   \n",
       "10          2021  TV-MA   1 Season   \n",
       "11          2021  TV-MA   1 Season   \n",
       "12          2021  TV-MA    127 min   \n",
       "13          2021  TV-PG     91 min   \n",
       "14          2021  TV-MA   1 Season   \n",
       "\n",
       "                                            listed_in  \\\n",
       "0                                       Documentaries   \n",
       "1     International TV Shows, TV Dramas, TV Mysteries   \n",
       "2   Crime TV Shows, International TV Shows, TV Act...   \n",
       "3                              Docuseries, Reality TV   \n",
       "4   International TV Shows, Romantic TV Shows, TV ...   \n",
       "5                  TV Dramas, TV Horror, TV Mysteries   \n",
       "6                            Children & Family Movies   \n",
       "7    Dramas, Independent Movies, International Movies   \n",
       "8                        British TV Shows, Reality TV   \n",
       "9                                    Comedies, Dramas   \n",
       "10  Crime TV Shows, Docuseries, International TV S...   \n",
       "11  Crime TV Shows, International TV Shows, TV Act...   \n",
       "12                       Dramas, International Movies   \n",
       "13                 Children & Family Movies, Comedies   \n",
       "14       British TV Shows, Crime TV Shows, Docuseries   \n",
       "\n",
       "                                          description  \n",
       "0   As her father nears the end of his life, filmm...  \n",
       "1   After crossing paths at a party, a Cape Town t...  \n",
       "2   To protect his family from a powerful drug lor...  \n",
       "3   Feuds, flirtations and toilet talk go down amo...  \n",
       "4   In a city of coaching centers known to train I...  \n",
       "5   The arrival of a charismatic young priest brin...  \n",
       "6   Equestria's divided. But a bright-eyed hero be...  \n",
       "7   On a photo shoot in Ghana, an American model s...  \n",
       "8   A talented batch of amateur bakers face off in...  \n",
       "9   A woman adjusting to life after a loss contend...  \n",
       "10  Sicily boasts a bold \"Anti-Mafia\" coalition. B...  \n",
       "11  Struggling to earn a living in Bangkok, a man ...  \n",
       "12  After most of her family is murdered in a terr...  \n",
       "13  When the clever but socially-awkward Tetê join...  \n",
       "14  Cameras following Bengaluru police on the job ...  "
      ]
     },
     "execution_count": 130,
     "metadata": {},
     "output_type": "execute_result"
    }
   ],
   "source": [
    "unprocessed_data.head(15)"
   ]
  },
  {
   "cell_type": "code",
   "execution_count": 196,
   "id": "623cac1e-7a1d-4f31-818d-721f53833c8d",
   "metadata": {},
   "outputs": [],
   "source": [
    "unprocessed_data['listed_in'] = unprocessed_data['listed_in'].str.split(', ')"
   ]
  },
  {
   "cell_type": "code",
   "execution_count": 198,
   "id": "00fe5c3b-e3dc-434c-99d1-4a251389cd5a",
   "metadata": {},
   "outputs": [],
   "source": [
    "unprocessed_data['director'] = unprocessed_data['director'].str.split(', ')\n",
    "unprocessed_data['cast'] = unprocessed_data['cast'].str.split(', ')\n",
    "unprocessed_data['country'] = unprocessed_data['country'].str.split(', ')"
   ]
  },
  {
   "cell_type": "code",
   "execution_count": 206,
   "id": "39595abc-5ab0-4596-b373-9a15a3f6326d",
   "metadata": {},
   "outputs": [],
   "source": [
    "preprocessed_data = unprocessed_data.copy()"
   ]
  },
  {
   "cell_type": "code",
   "execution_count": 207,
   "id": "91d5e35d-21b8-44e0-adbb-b9ca622b3c86",
   "metadata": {},
   "outputs": [],
   "source": [
    "preprocessed_data = preprocessed_data.explode('listed_in')\n",
    "preprocessed_data = preprocessed_data.explode('cast')\n",
    "preprocessed_data = preprocessed_data.explode('director')\n",
    "preprocessed_data = preprocessed_data.explode('country')"
   ]
  },
  {
   "cell_type": "code",
   "execution_count": 208,
   "id": "2a72570b-c09b-46f7-aec7-26718c96acdf",
   "metadata": {},
   "outputs": [
    {
     "data": {
      "text/plain": [
       "(201991, 12)"
      ]
     },
     "execution_count": 208,
     "metadata": {},
     "output_type": "execute_result"
    }
   ],
   "source": [
    "preprocessed_data.shape"
   ]
  },
  {
   "cell_type": "code",
   "execution_count": 209,
   "id": "1657076d-ad8d-4574-9890-b6ae36fa9f42",
   "metadata": {},
   "outputs": [
    {
     "data": {
      "text/html": [
       "<div>\n",
       "<style scoped>\n",
       "    .dataframe tbody tr th:only-of-type {\n",
       "        vertical-align: middle;\n",
       "    }\n",
       "\n",
       "    .dataframe tbody tr th {\n",
       "        vertical-align: top;\n",
       "    }\n",
       "\n",
       "    .dataframe thead th {\n",
       "        text-align: right;\n",
       "    }\n",
       "</style>\n",
       "<table border=\"1\" class=\"dataframe\">\n",
       "  <thead>\n",
       "    <tr style=\"text-align: right;\">\n",
       "      <th></th>\n",
       "      <th>release_year</th>\n",
       "    </tr>\n",
       "  </thead>\n",
       "  <tbody>\n",
       "    <tr>\n",
       "      <th>count</th>\n",
       "      <td>201991.000000</td>\n",
       "    </tr>\n",
       "    <tr>\n",
       "      <th>mean</th>\n",
       "      <td>2013.452891</td>\n",
       "    </tr>\n",
       "    <tr>\n",
       "      <th>std</th>\n",
       "      <td>9.003933</td>\n",
       "    </tr>\n",
       "    <tr>\n",
       "      <th>min</th>\n",
       "      <td>1925.000000</td>\n",
       "    </tr>\n",
       "    <tr>\n",
       "      <th>25%</th>\n",
       "      <td>2012.000000</td>\n",
       "    </tr>\n",
       "    <tr>\n",
       "      <th>50%</th>\n",
       "      <td>2016.000000</td>\n",
       "    </tr>\n",
       "    <tr>\n",
       "      <th>75%</th>\n",
       "      <td>2019.000000</td>\n",
       "    </tr>\n",
       "    <tr>\n",
       "      <th>max</th>\n",
       "      <td>2021.000000</td>\n",
       "    </tr>\n",
       "  </tbody>\n",
       "</table>\n",
       "</div>"
      ],
      "text/plain": [
       "        release_year\n",
       "count  201991.000000\n",
       "mean     2013.452891\n",
       "std         9.003933\n",
       "min      1925.000000\n",
       "25%      2012.000000\n",
       "50%      2016.000000\n",
       "75%      2019.000000\n",
       "max      2021.000000"
      ]
     },
     "execution_count": 209,
     "metadata": {},
     "output_type": "execute_result"
    }
   ],
   "source": [
    "preprocessed_data.describe()"
   ]
  },
  {
   "cell_type": "code",
   "execution_count": 210,
   "id": "5e42483a-278f-4b29-a04c-845085b8c1e7",
   "metadata": {},
   "outputs": [
    {
     "name": "stdout",
     "output_type": "stream",
     "text": [
      "<class 'pandas.core.frame.DataFrame'>\n",
      "Index: 201991 entries, 0 to 8806\n",
      "Data columns (total 12 columns):\n",
      " #   Column        Non-Null Count   Dtype   \n",
      "---  ------        --------------   -----   \n",
      " 0   show_id       201991 non-null  object  \n",
      " 1   type          201991 non-null  category\n",
      " 2   title         201991 non-null  object  \n",
      " 3   director      151348 non-null  object  \n",
      " 4   cast          199845 non-null  object  \n",
      " 5   country       190094 non-null  object  \n",
      " 6   date_added    201833 non-null  object  \n",
      " 7   release_year  201991 non-null  int64   \n",
      " 8   rating        201924 non-null  category\n",
      " 9   duration      201988 non-null  object  \n",
      " 10  listed_in     201991 non-null  object  \n",
      " 11  description   201991 non-null  object  \n",
      "dtypes: category(2), int64(1), object(9)\n",
      "memory usage: 17.3+ MB\n"
     ]
    }
   ],
   "source": [
    "preprocessed_data.info()"
   ]
  },
  {
   "cell_type": "code",
   "execution_count": 211,
   "id": "3c38a9ae-af9d-471d-be07-04270280500e",
   "metadata": {},
   "outputs": [
    {
     "data": {
      "text/html": [
       "<div>\n",
       "<style scoped>\n",
       "    .dataframe tbody tr th:only-of-type {\n",
       "        vertical-align: middle;\n",
       "    }\n",
       "\n",
       "    .dataframe tbody tr th {\n",
       "        vertical-align: top;\n",
       "    }\n",
       "\n",
       "    .dataframe thead th {\n",
       "        text-align: right;\n",
       "    }\n",
       "</style>\n",
       "<table border=\"1\" class=\"dataframe\">\n",
       "  <thead>\n",
       "    <tr style=\"text-align: right;\">\n",
       "      <th></th>\n",
       "      <th>show_id</th>\n",
       "      <th>type</th>\n",
       "      <th>title</th>\n",
       "      <th>director</th>\n",
       "      <th>cast</th>\n",
       "      <th>country</th>\n",
       "      <th>date_added</th>\n",
       "      <th>release_year</th>\n",
       "      <th>rating</th>\n",
       "      <th>duration</th>\n",
       "      <th>listed_in</th>\n",
       "      <th>description</th>\n",
       "    </tr>\n",
       "  </thead>\n",
       "  <tbody>\n",
       "    <tr>\n",
       "      <th>0</th>\n",
       "      <td>s1</td>\n",
       "      <td>Movie</td>\n",
       "      <td>Dick Johnson Is Dead</td>\n",
       "      <td>Kirsten Johnson</td>\n",
       "      <td>NaN</td>\n",
       "      <td>United States</td>\n",
       "      <td>September 25, 2021</td>\n",
       "      <td>2020</td>\n",
       "      <td>PG-13</td>\n",
       "      <td>90 min</td>\n",
       "      <td>Documentaries</td>\n",
       "      <td>As her father nears the end of his life, filmm...</td>\n",
       "    </tr>\n",
       "    <tr>\n",
       "      <th>1</th>\n",
       "      <td>s2</td>\n",
       "      <td>TV Show</td>\n",
       "      <td>Blood &amp; Water</td>\n",
       "      <td>NaN</td>\n",
       "      <td>Ama Qamata</td>\n",
       "      <td>South Africa</td>\n",
       "      <td>September 24, 2021</td>\n",
       "      <td>2021</td>\n",
       "      <td>TV-MA</td>\n",
       "      <td>2 Seasons</td>\n",
       "      <td>International TV Shows</td>\n",
       "      <td>After crossing paths at a party, a Cape Town t...</td>\n",
       "    </tr>\n",
       "    <tr>\n",
       "      <th>1</th>\n",
       "      <td>s2</td>\n",
       "      <td>TV Show</td>\n",
       "      <td>Blood &amp; Water</td>\n",
       "      <td>NaN</td>\n",
       "      <td>Khosi Ngema</td>\n",
       "      <td>South Africa</td>\n",
       "      <td>September 24, 2021</td>\n",
       "      <td>2021</td>\n",
       "      <td>TV-MA</td>\n",
       "      <td>2 Seasons</td>\n",
       "      <td>International TV Shows</td>\n",
       "      <td>After crossing paths at a party, a Cape Town t...</td>\n",
       "    </tr>\n",
       "    <tr>\n",
       "      <th>1</th>\n",
       "      <td>s2</td>\n",
       "      <td>TV Show</td>\n",
       "      <td>Blood &amp; Water</td>\n",
       "      <td>NaN</td>\n",
       "      <td>Gail Mabalane</td>\n",
       "      <td>South Africa</td>\n",
       "      <td>September 24, 2021</td>\n",
       "      <td>2021</td>\n",
       "      <td>TV-MA</td>\n",
       "      <td>2 Seasons</td>\n",
       "      <td>International TV Shows</td>\n",
       "      <td>After crossing paths at a party, a Cape Town t...</td>\n",
       "    </tr>\n",
       "    <tr>\n",
       "      <th>1</th>\n",
       "      <td>s2</td>\n",
       "      <td>TV Show</td>\n",
       "      <td>Blood &amp; Water</td>\n",
       "      <td>NaN</td>\n",
       "      <td>Thabang Molaba</td>\n",
       "      <td>South Africa</td>\n",
       "      <td>September 24, 2021</td>\n",
       "      <td>2021</td>\n",
       "      <td>TV-MA</td>\n",
       "      <td>2 Seasons</td>\n",
       "      <td>International TV Shows</td>\n",
       "      <td>After crossing paths at a party, a Cape Town t...</td>\n",
       "    </tr>\n",
       "  </tbody>\n",
       "</table>\n",
       "</div>"
      ],
      "text/plain": [
       "  show_id     type                 title         director            cast  \\\n",
       "0      s1    Movie  Dick Johnson Is Dead  Kirsten Johnson             NaN   \n",
       "1      s2  TV Show         Blood & Water              NaN      Ama Qamata   \n",
       "1      s2  TV Show         Blood & Water              NaN     Khosi Ngema   \n",
       "1      s2  TV Show         Blood & Water              NaN   Gail Mabalane   \n",
       "1      s2  TV Show         Blood & Water              NaN  Thabang Molaba   \n",
       "\n",
       "         country          date_added  release_year rating   duration  \\\n",
       "0  United States  September 25, 2021          2020  PG-13     90 min   \n",
       "1   South Africa  September 24, 2021          2021  TV-MA  2 Seasons   \n",
       "1   South Africa  September 24, 2021          2021  TV-MA  2 Seasons   \n",
       "1   South Africa  September 24, 2021          2021  TV-MA  2 Seasons   \n",
       "1   South Africa  September 24, 2021          2021  TV-MA  2 Seasons   \n",
       "\n",
       "                listed_in                                        description  \n",
       "0           Documentaries  As her father nears the end of his life, filmm...  \n",
       "1  International TV Shows  After crossing paths at a party, a Cape Town t...  \n",
       "1  International TV Shows  After crossing paths at a party, a Cape Town t...  \n",
       "1  International TV Shows  After crossing paths at a party, a Cape Town t...  \n",
       "1  International TV Shows  After crossing paths at a party, a Cape Town t...  "
      ]
     },
     "execution_count": 211,
     "metadata": {},
     "output_type": "execute_result"
    }
   ],
   "source": [
    "preprocessed_data.head()"
   ]
  },
  {
   "cell_type": "markdown",
   "id": "624b7ce7-c4a0-40ae-ab88-1b1a5176da82",
   "metadata": {},
   "source": [
    "#### OBSERVATIONS\n",
    "\n",
    "* After unnesting the values, we have 201991 rows."
   ]
  },
  {
   "cell_type": "code",
   "execution_count": 235,
   "id": "c30a2693-08b4-40c2-a496-ed8af1610ed6",
   "metadata": {},
   "outputs": [
    {
     "data": {
      "text/html": [
       "<div>\n",
       "<style scoped>\n",
       "    .dataframe tbody tr th:only-of-type {\n",
       "        vertical-align: middle;\n",
       "    }\n",
       "\n",
       "    .dataframe tbody tr th {\n",
       "        vertical-align: top;\n",
       "    }\n",
       "\n",
       "    .dataframe thead th {\n",
       "        text-align: right;\n",
       "    }\n",
       "</style>\n",
       "<table border=\"1\" class=\"dataframe\">\n",
       "  <thead>\n",
       "    <tr style=\"text-align: right;\">\n",
       "      <th></th>\n",
       "      <th>show_id</th>\n",
       "      <th>type</th>\n",
       "      <th>title</th>\n",
       "      <th>director</th>\n",
       "      <th>cast</th>\n",
       "      <th>country</th>\n",
       "      <th>date_added</th>\n",
       "      <th>release_year</th>\n",
       "      <th>rating</th>\n",
       "      <th>duration</th>\n",
       "      <th>listed_in</th>\n",
       "      <th>description</th>\n",
       "      <th>date_converted</th>\n",
       "    </tr>\n",
       "  </thead>\n",
       "  <tbody>\n",
       "    <tr>\n",
       "      <th>0</th>\n",
       "      <td>s1</td>\n",
       "      <td>Movie</td>\n",
       "      <td>Dick Johnson Is Dead</td>\n",
       "      <td>Kirsten Johnson</td>\n",
       "      <td>NaN</td>\n",
       "      <td>United States</td>\n",
       "      <td>September 25, 2021</td>\n",
       "      <td>2020</td>\n",
       "      <td>PG-13</td>\n",
       "      <td>90 min</td>\n",
       "      <td>Documentaries</td>\n",
       "      <td>As her father nears the end of his life, filmm...</td>\n",
       "      <td>2021-09-25</td>\n",
       "    </tr>\n",
       "    <tr>\n",
       "      <th>1</th>\n",
       "      <td>s2</td>\n",
       "      <td>TV Show</td>\n",
       "      <td>Blood &amp; Water</td>\n",
       "      <td>NaN</td>\n",
       "      <td>Ama Qamata</td>\n",
       "      <td>South Africa</td>\n",
       "      <td>September 24, 2021</td>\n",
       "      <td>2021</td>\n",
       "      <td>TV-MA</td>\n",
       "      <td>2 Seasons</td>\n",
       "      <td>International TV Shows</td>\n",
       "      <td>After crossing paths at a party, a Cape Town t...</td>\n",
       "      <td>2021-09-24</td>\n",
       "    </tr>\n",
       "    <tr>\n",
       "      <th>1</th>\n",
       "      <td>s2</td>\n",
       "      <td>TV Show</td>\n",
       "      <td>Blood &amp; Water</td>\n",
       "      <td>NaN</td>\n",
       "      <td>Khosi Ngema</td>\n",
       "      <td>South Africa</td>\n",
       "      <td>September 24, 2021</td>\n",
       "      <td>2021</td>\n",
       "      <td>TV-MA</td>\n",
       "      <td>2 Seasons</td>\n",
       "      <td>International TV Shows</td>\n",
       "      <td>After crossing paths at a party, a Cape Town t...</td>\n",
       "      <td>2021-09-24</td>\n",
       "    </tr>\n",
       "    <tr>\n",
       "      <th>1</th>\n",
       "      <td>s2</td>\n",
       "      <td>TV Show</td>\n",
       "      <td>Blood &amp; Water</td>\n",
       "      <td>NaN</td>\n",
       "      <td>Gail Mabalane</td>\n",
       "      <td>South Africa</td>\n",
       "      <td>September 24, 2021</td>\n",
       "      <td>2021</td>\n",
       "      <td>TV-MA</td>\n",
       "      <td>2 Seasons</td>\n",
       "      <td>International TV Shows</td>\n",
       "      <td>After crossing paths at a party, a Cape Town t...</td>\n",
       "      <td>2021-09-24</td>\n",
       "    </tr>\n",
       "    <tr>\n",
       "      <th>1</th>\n",
       "      <td>s2</td>\n",
       "      <td>TV Show</td>\n",
       "      <td>Blood &amp; Water</td>\n",
       "      <td>NaN</td>\n",
       "      <td>Thabang Molaba</td>\n",
       "      <td>South Africa</td>\n",
       "      <td>September 24, 2021</td>\n",
       "      <td>2021</td>\n",
       "      <td>TV-MA</td>\n",
       "      <td>2 Seasons</td>\n",
       "      <td>International TV Shows</td>\n",
       "      <td>After crossing paths at a party, a Cape Town t...</td>\n",
       "      <td>2021-09-24</td>\n",
       "    </tr>\n",
       "  </tbody>\n",
       "</table>\n",
       "</div>"
      ],
      "text/plain": [
       "  show_id     type                 title         director            cast  \\\n",
       "0      s1    Movie  Dick Johnson Is Dead  Kirsten Johnson             NaN   \n",
       "1      s2  TV Show         Blood & Water              NaN      Ama Qamata   \n",
       "1      s2  TV Show         Blood & Water              NaN     Khosi Ngema   \n",
       "1      s2  TV Show         Blood & Water              NaN   Gail Mabalane   \n",
       "1      s2  TV Show         Blood & Water              NaN  Thabang Molaba   \n",
       "\n",
       "         country          date_added  release_year rating   duration  \\\n",
       "0  United States  September 25, 2021          2020  PG-13     90 min   \n",
       "1   South Africa  September 24, 2021          2021  TV-MA  2 Seasons   \n",
       "1   South Africa  September 24, 2021          2021  TV-MA  2 Seasons   \n",
       "1   South Africa  September 24, 2021          2021  TV-MA  2 Seasons   \n",
       "1   South Africa  September 24, 2021          2021  TV-MA  2 Seasons   \n",
       "\n",
       "                listed_in                                        description  \\\n",
       "0           Documentaries  As her father nears the end of his life, filmm...   \n",
       "1  International TV Shows  After crossing paths at a party, a Cape Town t...   \n",
       "1  International TV Shows  After crossing paths at a party, a Cape Town t...   \n",
       "1  International TV Shows  After crossing paths at a party, a Cape Town t...   \n",
       "1  International TV Shows  After crossing paths at a party, a Cape Town t...   \n",
       "\n",
       "  date_converted  \n",
       "0     2021-09-25  \n",
       "1     2021-09-24  \n",
       "1     2021-09-24  \n",
       "1     2021-09-24  \n",
       "1     2021-09-24  "
      ]
     },
     "execution_count": 235,
     "metadata": {},
     "output_type": "execute_result"
    }
   ],
   "source": [
    "preprocessed_data['date_converted'] = pd.to_datetime(preprocessed_data['date_added'].str.strip(), format='%B %d, %Y')\n",
    "# modifying date time converted for date_added\n",
    "preprocessed_data.head()"
   ]
  },
  {
   "cell_type": "code",
   "execution_count": 319,
   "id": "ccebe324-b730-42c5-9de1-86335882f792",
   "metadata": {},
   "outputs": [],
   "source": [
    "preprocessed_data['extracted_year'] = preprocessed_data['date_converted'].dt.year # Extract Year\n",
    "preprocessed_data['extracted_month'] = preprocessed_data['date_converted'].dt.month # Extract Month\n",
    "preprocessed_data['extracted_day'] = preprocessed_data['date_converted'].dt.day # Extract Day"
   ]
  },
  {
   "cell_type": "markdown",
   "id": "d3e7a534-e027-441c-83fe-f2509ca5e74b",
   "metadata": {},
   "source": [
    "#### MISSING VALUES"
   ]
  },
  {
   "cell_type": "code",
   "execution_count": 342,
   "id": "d33323df-dd87-4bf5-96de-22cab29c14e0",
   "metadata": {},
   "outputs": [],
   "source": [
    "preprocessed_data['extracted_year'] = preprocessed_data['extracted_year'].fillna(0)\n",
    "preprocessed_data['extracted_month'] = preprocessed_data['extracted_month'].fillna(0)\n",
    "preprocessed_data['extracted_day'] = preprocessed_data['extracted_day'].fillna(0)"
   ]
  },
  {
   "cell_type": "code",
   "execution_count": 343,
   "id": "2cf3c038-3276-4e52-9b8b-7fc1f4a68991",
   "metadata": {},
   "outputs": [],
   "source": [
    "preprocessed_data['extracted_year'] = preprocessed_data['extracted_year'].astype(int)\n",
    "preprocessed_data['extracted_month'] = preprocessed_data['extracted_month'].astype(int)\n",
    "preprocessed_data['extracted_day'] = preprocessed_data['extracted_day'].astype(int)"
   ]
  },
  {
   "cell_type": "code",
   "execution_count": 345,
   "id": "b4e6a170-0e1e-4777-b5fb-4f6cb9970b2e",
   "metadata": {},
   "outputs": [],
   "source": [
    "# using this cell converts the day, month and year to float(for charts, we are not using this cell)\n",
    "\n",
    "# preprocessed_data['extracted_year'] = preprocessed_data['extracted_year'].replace(0, np.nan)\n",
    "# preprocessed_data['extracted_month'] = preprocessed_data['extracted_month'].replace(0, np.nan)\n",
    "# preprocessed_data['extracted_day'] = preprocessed_data['extracted_day'].replace(0, np.nan)"
   ]
  },
  {
   "cell_type": "code",
   "execution_count": 350,
   "id": "881d3e56-0e1c-474e-b1ef-a20d300c6417",
   "metadata": {},
   "outputs": [
    {
     "data": {
      "text/html": [
       "<div>\n",
       "<style scoped>\n",
       "    .dataframe tbody tr th:only-of-type {\n",
       "        vertical-align: middle;\n",
       "    }\n",
       "\n",
       "    .dataframe tbody tr th {\n",
       "        vertical-align: top;\n",
       "    }\n",
       "\n",
       "    .dataframe thead th {\n",
       "        text-align: right;\n",
       "    }\n",
       "</style>\n",
       "<table border=\"1\" class=\"dataframe\">\n",
       "  <thead>\n",
       "    <tr style=\"text-align: right;\">\n",
       "      <th></th>\n",
       "      <th>show_id</th>\n",
       "      <th>type</th>\n",
       "      <th>title</th>\n",
       "      <th>director</th>\n",
       "      <th>cast</th>\n",
       "      <th>country</th>\n",
       "      <th>date_added</th>\n",
       "      <th>release_year</th>\n",
       "      <th>rating</th>\n",
       "      <th>duration</th>\n",
       "      <th>listed_in</th>\n",
       "      <th>description</th>\n",
       "      <th>date_converted</th>\n",
       "      <th>extracted_year</th>\n",
       "      <th>extracted_month</th>\n",
       "      <th>extracted_day</th>\n",
       "    </tr>\n",
       "  </thead>\n",
       "  <tbody>\n",
       "    <tr>\n",
       "      <th>6066</th>\n",
       "      <td>s6067</td>\n",
       "      <td>TV Show</td>\n",
       "      <td>A Young Doctor's Notebook and Other Stories</td>\n",
       "      <td>NaN</td>\n",
       "      <td>Daniel Radcliffe</td>\n",
       "      <td>United Kingdom</td>\n",
       "      <td>NaN</td>\n",
       "      <td>2013</td>\n",
       "      <td>TV-MA</td>\n",
       "      <td>2 Seasons</td>\n",
       "      <td>British TV Shows</td>\n",
       "      <td>Set during the Russian Revolution, this comic ...</td>\n",
       "      <td>NaT</td>\n",
       "      <td>0</td>\n",
       "      <td>0</td>\n",
       "      <td>0</td>\n",
       "    </tr>\n",
       "    <tr>\n",
       "      <th>6066</th>\n",
       "      <td>s6067</td>\n",
       "      <td>TV Show</td>\n",
       "      <td>A Young Doctor's Notebook and Other Stories</td>\n",
       "      <td>NaN</td>\n",
       "      <td>Jon Hamm</td>\n",
       "      <td>United Kingdom</td>\n",
       "      <td>NaN</td>\n",
       "      <td>2013</td>\n",
       "      <td>TV-MA</td>\n",
       "      <td>2 Seasons</td>\n",
       "      <td>British TV Shows</td>\n",
       "      <td>Set during the Russian Revolution, this comic ...</td>\n",
       "      <td>NaT</td>\n",
       "      <td>0</td>\n",
       "      <td>0</td>\n",
       "      <td>0</td>\n",
       "    </tr>\n",
       "  </tbody>\n",
       "</table>\n",
       "</div>"
      ],
      "text/plain": [
       "     show_id     type                                        title director  \\\n",
       "6066   s6067  TV Show  A Young Doctor's Notebook and Other Stories      NaN   \n",
       "6066   s6067  TV Show  A Young Doctor's Notebook and Other Stories      NaN   \n",
       "\n",
       "                  cast         country date_added  release_year rating  \\\n",
       "6066  Daniel Radcliffe  United Kingdom        NaN          2013  TV-MA   \n",
       "6066          Jon Hamm  United Kingdom        NaN          2013  TV-MA   \n",
       "\n",
       "       duration         listed_in  \\\n",
       "6066  2 Seasons  British TV Shows   \n",
       "6066  2 Seasons  British TV Shows   \n",
       "\n",
       "                                            description date_converted  \\\n",
       "6066  Set during the Russian Revolution, this comic ...            NaT   \n",
       "6066  Set during the Russian Revolution, this comic ...            NaT   \n",
       "\n",
       "      extracted_year  extracted_month  extracted_day  \n",
       "6066               0                0              0  \n",
       "6066               0                0              0  "
      ]
     },
     "execution_count": 350,
     "metadata": {},
     "output_type": "execute_result"
    }
   ],
   "source": [
    "preprocessed_data[preprocessed_data['extracted_year'] == 0].head(2)"
   ]
  },
  {
   "cell_type": "markdown",
   "id": "c69113e5-c6e9-4974-9914-59fa39b5199d",
   "metadata": {},
   "source": [
    "#### VISUAL ANALYSIS"
   ]
  },
  {
   "cell_type": "code",
   "execution_count": 363,
   "id": "d684d19d-3d51-47e0-9160-610747c4f179",
   "metadata": {},
   "outputs": [
    {
     "data": {
      "image/png": "[encoded data removed]",
      "text/plain": [
       "<Figure size 1700x800 with 1 Axes>"
      ]
     },
     "metadata": {},
     "output_type": "display_data"
    }
   ],
   "source": [
    "# Univariate - continuous - release_year - countplot\n",
    "\n",
    "plt.figure(figsize=(17,8))\n",
    "\n",
    "sns.countplot(x='release_year', data=preprocessed_data, order=preprocessed_data['release_year'].value_counts().index, color='cornflowerblue')\n",
    "plt.xticks(rotation=90)\n",
    "plt.show()"
   ]
  },
  {
   "cell_type": "code",
   "execution_count": 373,
   "id": "e580a6af-8533-4827-9c0c-cd437ec255f1",
   "metadata": {},
   "outputs": [
    {
     "data": {
      "image/png": "[encoded data removed]",
      "text/plain": [
       "<Figure size 1700x800 with 1 Axes>"
      ]
     },
     "metadata": {},
     "output_type": "display_data"
    }
   ],
   "source": [
    "# Univariate - continuous - extracted_year - countplot\n",
    "\n",
    "plt.figure(figsize=(17,8))\n",
    "\n",
    "sns.countplot(x='extracted_year', data=preprocessed_data, order=preprocessed_data['extracted_year'].value_counts().index, color='cornflowerblue')\n",
    "plt.xticks(rotation=90)\n",
    "plt.show()"
   ]
  },
  {
   "cell_type": "code",
   "execution_count": 374,
   "id": "59fed689-b4cc-44c1-b7e8-10c9cf59c4b5",
   "metadata": {},
   "outputs": [
    {
     "data": {
      "image/png": "[encoded data removed]",
      "text/plain": [
       "<Figure size 1700x800 with 1 Axes>"
      ]
     },
     "metadata": {},
     "output_type": "display_data"
    }
   ],
   "source": [
    "# Univariate - continuous - extracted_month - countplot\n",
    "\n",
    "plt.figure(figsize=(17,8))\n",
    "\n",
    "sns.countplot(x='extracted_month', data=preprocessed_data, order=preprocessed_data['extracted_month'].value_counts().index, color='cornflowerblue')\n",
    "plt.xticks(rotation=90)\n",
    "plt.show()"
   ]
  },
  {
   "cell_type": "code",
   "execution_count": 375,
   "id": "6294fb8c-b82c-402f-bbc8-a744f671f1a9",
   "metadata": {},
   "outputs": [
    {
     "data": {
      "image/png": "[encoded data removed]",
      "text/plain": [
       "<Figure size 1700x800 with 1 Axes>"
      ]
     },
     "metadata": {},
     "output_type": "display_data"
    }
   ],
   "source": [
    "# Univariate - continuous - extracted_day - countplot\n",
    "\n",
    "plt.figure(figsize=(17,8))\n",
    "\n",
    "sns.countplot(x='extracted_day', data=preprocessed_data, order=preprocessed_data['extracted_day'].value_counts().index, color='cornflowerblue')\n",
    "plt.xticks(rotation=90)\n",
    "plt.show()"
   ]
  },
  {
   "cell_type": "code",
   "execution_count": 364,
   "id": "7f9f4396-b3d6-4742-9ea3-cb49a38e0666",
   "metadata": {},
   "outputs": [
    {
     "data": {
      "text/plain": [
       "Index(['show_id', 'type', 'title', 'director', 'cast', 'country', 'date_added',\n",
       "       'release_year', 'rating', 'duration', 'listed_in', 'description',\n",
       "       'date_converted', 'extracted_year', 'extracted_month', 'extracted_day'],\n",
       "      dtype='object')"
      ]
     },
     "execution_count": 364,
     "metadata": {},
     "output_type": "execute_result"
    }
   ],
   "source": [
    "preprocessed_data.columns"
   ]
  },
  {
   "cell_type": "markdown",
   "id": "d91d4260-0ac2-47f2-abfd-fb2415110fa6",
   "metadata": {},
   "source": [
    "#### OBSERVATIONS\n",
    "\n",
    "* Based on the Univariate analysis,  we could see most movies/tv shows were released in `2018, 2019, 2017, 2020, 2016` and then later added to the netflix platform.\n",
    "* Based on the charts we could see netflix has added the most number of shows/movies after `2015`.\n",
    "* Most movies/shows were added during the month of `July,December,january,September`.\n",
    "* Most movies/shows were added during the date of `1` and `15` of each month.\n",
    "* There are `158` values missing."
   ]
  },
  {
   "cell_type": "code",
   "execution_count": 377,
   "id": "4f9ced3d-a231-436b-9cd6-3298886277bc",
   "metadata": {},
   "outputs": [
    {
     "data": {
      "image/png": "[encoded data removed]",
      "text/plain": [
       "<Figure size 1700x800 with 1 Axes>"
      ]
     },
     "metadata": {},
     "output_type": "display_data"
    }
   ],
   "source": [
    "# Univariate - continuous - release_year - histplot\n",
    "\n",
    "plt.figure(figsize=(17,8))\n",
    "\n",
    "sns.histplot(x='release_year', data=preprocessed_data, color='cornflowerblue')\n",
    "plt.xticks(rotation=90)\n",
    "plt.show()"
   ]
  },
  {
   "cell_type": "markdown",
   "id": "fe30510f-4287-4e4a-ab31-11e66ddca8e5",
   "metadata": {},
   "source": [
    "#### OBSERVATIONS\n",
    "\n",
    "* Based on the above chart, we can see the movies/shows were released `steadily increased till 2018` and then it started to `decrease from 2019`."
   ]
  },
  {
   "cell_type": "code",
   "execution_count": null,
   "id": "fa6dce99-98bf-4703-b15d-4cfac3103cbf",
   "metadata": {},
   "outputs": [],
   "source": []
  }
 ],
 "metadata": {
  "kernelspec": {
   "display_name": "Python 3 (ipykernel)",
   "language": "python",
   "name": "python3"
  },
  "language_info": {
   "codemirror_mode": {
    "name": "ipython",
    "version": 3
   },
   "file_extension": ".py",
   "mimetype": "text/x-python",
   "name": "python",
   "nbconvert_exporter": "python",
   "pygments_lexer": "ipython3",
   "version": "3.12.3"
  }
 },
 "nbformat": 4,
 "nbformat_minor": 5
}
